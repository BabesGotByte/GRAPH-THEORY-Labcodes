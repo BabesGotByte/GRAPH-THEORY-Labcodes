{
  "nbformat": 4,
  "nbformat_minor": 0,
  "metadata": {
    "colab": {
      "name": "Recognize_characters.ipynb",
      "provenance": [],
      "collapsed_sections": []
    },
    "kernelspec": {
      "name": "python3",
      "display_name": "Python 3"
    }
  },
  "cells": [
    {
      "cell_type": "code",
      "metadata": {
        "id": "qh-Evjy43Cm_",
        "colab_type": "code",
        "colab": {}
      },
      "source": [
        "import cv2\n",
        "from numpy import ones\n",
        "from google.colab.patches import cv2_imshow"
      ],
      "execution_count": null,
      "outputs": []
    },
    {
      "cell_type": "code",
      "metadata": {
        "id": "clFhPd1J3Eji",
        "colab_type": "code",
        "colab": {}
      },
      "source": [
        "img = cv2.imread('/H.jpg')\n",
        "img = cv2.resize(img,(200,200))\n",
        "gray1 = cv2.cvtColor(img, cv2.COLOR_BGR2GRAY)\n",
        "#cv2_imshow(gray1)\n",
        "\n",
        "h, w = gray1.shape[:2]\n",
        "\n",
        "for y in range(0, h):\n",
        "        for x in range(0, w):\n",
        "            gray1[y, x] = 0 if gray1[y, x] >= 0 and gray1[y, x] <= 128 else 1\n",
        "\n",
        "img2 = cv2.imread('/K.jpg')\n",
        "img2 = cv2.resize(img2,(200,200))\n",
        "gray2 = cv2.cvtColor(img2, cv2.COLOR_BGR2GRAY)\n",
        "#cv2_imshow(gray1)\n",
        "\n",
        "h, w = gray2.shape[:2]\n",
        "\n",
        "for y in range(0, h):\n",
        "        for x in range(0, w):\n",
        "            gray2[y, x] = 0 if gray2[y, x] >= 0 and gray2[y, x] <= 128 else 1\n",
        "\n",
        "\n",
        "img4 = cv2.imread('/Y.jpg')\n",
        "img4 = cv2.resize(img4,(200,200))\n",
        "gray4 = cv2.cvtColor(img4, cv2.COLOR_BGR2GRAY)\n",
        "#cv2_imshow(gray1)\n",
        "\n",
        "h, w = gray4.shape[:2]\n",
        "\n",
        "for y in range(0, h):\n",
        "        for x in range(0, w):\n",
        "            gray4[y, x] = 0 if gray4[y, x] >= 0 and gray4[y, x] <= 128 else 1\n",
        "\n",
        "\n",
        "img5 = cv2.imread('/T.jpg')\n",
        "img5 = cv2.resize(img5,(200,200))\n",
        "gray5 = cv2.cvtColor(img5, cv2.COLOR_BGR2GRAY)\n",
        "#cv2_imshow(gray1)\n",
        "\n",
        "h, w = gray5.shape[:2]\n",
        "\n",
        "for y in range(0, h):\n",
        "        for x in range(0, w):\n",
        "            gray5[y, x] = 0 if gray5[y, x] >= 0 and gray5[y, x] <= 128 else 1\n",
        "\n",
        "\n",
        "\n",
        "\n",
        "\n",
        "\n",
        "            "
      ],
      "execution_count": null,
      "outputs": []
    },
    {
      "cell_type": "code",
      "metadata": {
        "id": "FVkolR8w86Q2",
        "colab_type": "code",
        "colab": {}
      },
      "source": [
        "img = cv2.imread('/TTest.png')\n",
        "img = cv2.resize(img,(200,200))\n",
        "new_gray = cv2.cvtColor(img, cv2.COLOR_BGR2GRAY)\n",
        "#cv2_imshow(new_gray)\n",
        "\n",
        "h, w = new_gray.shape[:2]\n",
        "\n",
        "for y in range(0, h):\n",
        "  for x in range(0, w):\n",
        "    new_gray[y, x] = 0 if new_gray[y, x] >= 0 and new_gray[y, x] <= 128 else 1\n",
        "\n",
        "            "
      ],
      "execution_count": null,
      "outputs": []
    },
    {
      "cell_type": "code",
      "metadata": {
        "colab_type": "code",
        "id": "cGxLuXfM_j2U",
        "colab": {
          "base_uri": "https://localhost:8080/",
          "height": 102
        },
        "outputId": "ef635acf-b770-4915-a2f0-6a8eb3688d63"
      },
      "source": [
        "map = {1:\"H\",2:\"K\", 3:\"Y\",4:\"T\"}\n",
        "\n",
        "distance=[0,0,0,0]\n",
        "sum1=0\n",
        "sum2=0\n",
        "sum3=0\n",
        "sum4=0\n",
        "for y in range(0, h):\n",
        "        for x in range(0, w):\n",
        "            if(gray1[y,x]==1 and new_gray[y,x] != gray1[y,x]):\n",
        "              sum1=sum1+1\n",
        "            if(gray2[y,x]==1 and new_gray[y,x] != gray2[y,x]):\n",
        "              sum2=sum2+1\n",
        "            if(gray4[y,x]==1 and new_gray[y,x] != gray4[y,x]):\n",
        "              sum3=sum3+1\n",
        "            if(gray5[y,x]==1 and new_gray[y,x] != gray5[y,x]):\n",
        "              sum4=sum4+1\n",
        "            \n",
        "\n",
        "distance[0]=sum1\n",
        "distance[1]=sum2\n",
        "distance[2]=sum3\n",
        "distance[3]=sum4\n",
        "\n",
        "minval=2147483632\n",
        "index=0\n",
        "for y in range(0, 4):\n",
        "  print(distance[y])\n",
        "  if(distance[y]<minval):\n",
        "      minval=min(minval,distance[y])\n",
        "      index=y\n",
        "\n",
        "\n",
        "print(map[index+1])\n"
      ],
      "execution_count": null,
      "outputs": [
        {
          "output_type": "stream",
          "text": [
            "8716\n",
            "8609\n",
            "8372\n",
            "8355\n",
            "T\n"
          ],
          "name": "stdout"
        }
      ]
    },
    {
      "cell_type": "code",
      "metadata": {
        "id": "T_hZThrtP5sX",
        "colab_type": "code",
        "colab": {}
      },
      "source": [
        ""
      ],
      "execution_count": null,
      "outputs": []
    }
  ]
}