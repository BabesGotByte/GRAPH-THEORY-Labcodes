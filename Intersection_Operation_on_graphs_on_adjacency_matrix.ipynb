{
  "nbformat": 4,
  "nbformat_minor": 0,
  "metadata": {
    "colab": {
      "name": "Graph.ipynb",
      "provenance": []
    },
    "kernelspec": {
      "name": "python3",
      "display_name": "Python 3"
    }
  },
  "cells": [
    {
      "cell_type": "code",
      "metadata": {
        "id": "RzEeiBYCTvaP",
        "colab_type": "code",
        "colab": {}
      },
      "source": [
        "import networkx as nx \n",
        "import matplotlib as mpl\n",
        "import matplotlib.pyplot as plt \n",
        "import numpy as np"
      ],
      "execution_count": null,
      "outputs": []
    },
    {
      "cell_type": "code",
      "metadata": {
        "id": "4l9NL-3XTzzM",
        "colab_type": "code",
        "colab": {
          "base_uri": "https://localhost:8080/",
          "height": 272
        },
        "outputId": "275f1484-d873-4291-f2e0-adec2fb2a166"
      },
      "source": [
        "print(\"Input for first matrix\")\n",
        "vertices = int(input())\n",
        "edges = int(input())\n",
        "adjacent1 = [[0 for i in range(vertices)] for j in range(vertices)]\n",
        "\n",
        "for i in range(edges):\n",
        "  edge1 = int(input())\n",
        "  edge2 = int(input())\n",
        "  adjacent1[edge1][edge2] = 1\n",
        "\n",
        "rows1=vertices\n",
        "columns1=vertices"
      ],
      "execution_count": null,
      "outputs": [
        {
          "output_type": "stream",
          "text": [
            "Input for first matrix\n",
            "5\n",
            "6\n",
            "0\n",
            "1\n",
            "1\n",
            "2\n",
            "2\n",
            "3\n",
            "0\n",
            "3\n",
            "3\n",
            "4\n",
            "1\n",
            "4\n"
          ],
          "name": "stdout"
        }
      ]
    },
    {
      "cell_type": "code",
      "metadata": {
        "id": "nJLQZWNXYt6e",
        "colab_type": "code",
        "colab": {
          "base_uri": "https://localhost:8080/",
          "height": 136
        },
        "outputId": "d38d5564-2ee8-46b6-9dd2-b65cb6c9d514"
      },
      "source": [
        "print(\"Input for second matrix\")\n",
        "vertices = int(input())\n",
        "edges = int(input())\n",
        "adjacent2 = [[0 for i in range(vertices)] for j in range(vertices)]\n",
        "\n",
        "for i in range(edges):\n",
        "  edge1 = int(input())\n",
        "  edge2 = int(input())\n",
        "  adjacent2[edge1][edge2] = 1\n",
        "\n",
        "rows2=vertices\n",
        "columns2=vertices"
      ],
      "execution_count": null,
      "outputs": [
        {
          "output_type": "stream",
          "text": [
            "Input for second matrix\n",
            "4\n",
            "2\n",
            "0\n",
            "1\n",
            "1\n",
            "2\n"
          ],
          "name": "stdout"
        }
      ]
    },
    {
      "cell_type": "code",
      "metadata": {
        "id": "6BQdCOUDQz_B",
        "colab_type": "code",
        "colab": {}
      },
      "source": [
        "#Intersection of two matrices\n",
        "rows=min(rows1,rows2)\n",
        "columns=min(columns1,columns2)\n",
        "\n",
        "G = nx.Graph() \n",
        "for i in range(rows): \n",
        " for j in range( columns): \n",
        "   if adjacent1[i][j] and adjacent2[i][j]:\n",
        "      G.add_edge(i,j)\n",
        "      "
      ],
      "execution_count": null,
      "outputs": []
    },
    {
      "cell_type": "code",
      "metadata": {
        "id": "VsrUuernWArv",
        "colab_type": "code",
        "colab": {
          "base_uri": "https://localhost:8080/",
          "height": 248
        },
        "outputId": "5ef9266d-b73e-406c-fec0-2ccd6429c3f5"
      },
      "source": [
        "\n",
        "pos = nx.spring_layout(G)\n",
        "nx.draw_networkx_nodes(G, pos,node_size = 500)\n",
        "nx.draw_networkx_edges(G, pos, arrows=False)\n",
        "nx.draw_networkx_labels(G, pos)\n",
        "plt.show() "
      ],
      "execution_count": null,
      "outputs": [
        {
          "output_type": "display_data",
          "data": {
            "image/png": "[encoded data removed]",
            "text/plain": [
              "<Figure size 432x288 with 1 Axes>"
            ]
          },
          "metadata": {
            "tags": []
          }
        }
      ]
    }
  ]
}