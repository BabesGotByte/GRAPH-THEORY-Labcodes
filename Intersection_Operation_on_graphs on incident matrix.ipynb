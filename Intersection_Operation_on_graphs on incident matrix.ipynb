{
  "nbformat": 4,
  "nbformat_minor": 0,
  "metadata": {
    "colab": {
      "name": "Incident.ipynb",
      "provenance": [],
      "collapsed_sections": []
    },
    "kernelspec": {
      "name": "python3",
      "display_name": "Python 3"
    }
  },
  "cells": [
    {
      "cell_type": "code",
      "metadata": {
        "id": "jA1m2-VLepK3",
        "colab_type": "code",
        "colab": {}
      },
      "source": [
        "import networkx as nx \n",
        "import matplotlib as mpl\n",
        "import matplotlib.pyplot as plt \n",
        "import numpy as np"
      ],
      "execution_count": null,
      "outputs": []
    },
    {
      "cell_type": "code",
      "metadata": {
        "id": "eWJpEKkOeql6",
        "colab_type": "code",
        "colab": {
          "base_uri": "https://localhost:8080/",
          "height": 204
        },
        "outputId": "c1a48e2f-b050-4437-8cf1-7b54c342e3be"
      },
      "source": [
        "print(\"Input for first matrix\")\n",
        "vertices = int(input())\n",
        "edges = int(input())\n",
        "incident1 = [[0 for i in range(vertices)] for j in range(edges)]\n",
        "\n",
        "for i in range(edges):\n",
        "  edge1 = int(input())\n",
        "  edge2 = int(input())\n",
        "  incident1[edge1][i] = 1\n",
        "  incident1[edge2][i] = 1\n",
        "\n",
        "rows1=vertices\n",
        "columns1=edges"
      ],
      "execution_count": null,
      "outputs": [
        {
          "output_type": "stream",
          "text": [
            "Input for first matrix\n",
            "4\n",
            "4\n",
            "0\n",
            "1\n",
            "0\n",
            "2\n",
            "1\n",
            "2\n",
            "2\n",
            "3\n"
          ],
          "name": "stdout"
        }
      ]
    },
    {
      "cell_type": "code",
      "metadata": {
        "id": "p6rmWfQGes23",
        "colab_type": "code",
        "colab": {
          "base_uri": "https://localhost:8080/",
          "height": 170
        },
        "outputId": "e4e98de1-d598-4024-a266-dc7c56be7bf5"
      },
      "source": [
        "print(\"Input for second matrix\")\n",
        "vertices = int(input())\n",
        "edges = int(input())\n",
        "incident2 = [[0 for i in range(vertices)] for j in range(edges)]\n",
        "\n",
        "for i in range(edges):\n",
        "  edge1 = int(input())\n",
        "  edge2 = int(input())\n",
        "  incident2[edge1][i] = 1\n",
        "  incident2[edge2][i] = 1\n",
        "\n",
        "rows2=vertices\n",
        "columns2=edges"
      ],
      "execution_count": null,
      "outputs": [
        {
          "output_type": "stream",
          "text": [
            "Input for second matrix\n",
            "3\n",
            "3\n",
            "0\n",
            "2\n",
            "1\n",
            "2\n",
            "0\n",
            "1\n"
          ],
          "name": "stdout"
        }
      ]
    },
    {
      "cell_type": "code",
      "metadata": {
        "id": "w4eLDluEew7E",
        "colab_type": "code",
        "colab": {
          "base_uri": "https://localhost:8080/",
          "height": 248
        },
        "outputId": "281e4050-a161-4214-fbf6-4c02d375484f"
      },
      "source": [
        "G = nx.Graph() \n",
        "f=0\n",
        "s=0\n",
        "a=0\n",
        "b=0\n",
        "count=0\n",
        "for i in range(columns1):\n",
        "  f=0\n",
        "  s=0\n",
        "  count=0\n",
        "  for j in range(rows1):\n",
        "    if incident1[j][i]==1 and count==0:\n",
        "      f = j\n",
        "      count = count + 1\n",
        "    elif incident1[j][i]==1 and count==1:\n",
        "      s=j\n",
        "      break\n",
        "  for k in range(columns2):\n",
        "    a=0\n",
        "    b=0\n",
        "    count=0\n",
        "    for l in range(rows2):\n",
        "      if incident2[l][k] ==1 and count==0:\n",
        "        a=l\n",
        "        count = count + 1\n",
        "      elif incident2[l][k] ==1 and count==1:\n",
        "        b=l\n",
        "        break\n",
        "    if a==f and b==s:\n",
        "      G.add_edge(a,b)\n",
        "      break\n",
        "\n",
        "pos = nx.spring_layout(G)\n",
        "nx.draw_networkx_nodes(G, pos,node_size = 500)\n",
        "nx.draw_networkx_edges(G, pos, arrows=False)\n",
        "nx.draw_networkx_labels(G, pos)\n",
        "plt.show()"
      ],
      "execution_count": null,
      "outputs": [
        {
          "output_type": "display_data",
          "data": {
            "image/png": "[encoded data removed]",
            "text/plain": [
              "<Figure size 432x288 with 1 Axes>"
            ]
          },
          "metadata": {
            "tags": []
          }
        }
      ]
    }
  ]
}